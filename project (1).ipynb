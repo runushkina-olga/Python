{
 "cells": [
  {
   "cell_type": "markdown",
   "id": "_E41Wr5fqnFT",
   "metadata": {
    "id": "_E41Wr5fqnFT"
   },
   "source": [
    "# Часть 1. Проверка гипотезы в Python и составление аналитической записки"
   ]
  },
  {
   "cell_type": "markdown",
   "id": "e06910dd",
   "metadata": {
    "id": "e06910dd"
   },
   "source": [
    "# Сравнение активности пользователей Яндекс Книг в Москве и Санкт-Петербурге\n",
    "\n",
    "- Автор: Рунушкина Ольга Андреевна \n",
    "- Дата: 14.04.2025"
   ]
  },
  {
   "cell_type": "markdown",
   "id": "4149134c",
   "metadata": {
    "id": "4149134c"
   },
   "source": [
    "## Цели и задачи проекта\n",
    "\n",
    "**Цель проекта**:\n",
    "Проверить гипотезу о том, что пользователи из Санкт-Петербурга проводят в среднем больше времени за чтением и прослушиванием книг в приложении Яндекс Книги, чем пользователи из Москвы.\n",
    "\n",
    "**Задачи проекта**:\n",
    "\n",
    "- Загрузить и предобработать данные (в том числе проверить наличие дубликатов).\n",
    "- Сравнить размеры групп и описательные статистики.\n",
    "- Провести статистическую проверку гипотезы с помощью t-теста.\n",
    "- Сформулировать выводы на основе результатов тестирования."
   ]
  },
  {
   "cell_type": "markdown",
   "id": "728986ea",
   "metadata": {
    "id": "728986ea"
   },
   "source": [
    "## Описание данных\n",
    "\n",
    "В датасете представлены данные пользователей из двух городов — Москвы и Санкт-Петербурга.\n",
    "Каждая строка содержит информацию:\n",
    "\n",
    "`city` - город пользователя;\n",
    "\n",
    "`puid` - уникальый идентификаторй;\n",
    "\n",
    "`hours` - сумма времени, потраченного на чтение и прослушивание книг."
   ]
  },
  {
   "cell_type": "markdown",
   "id": "4fecaf95",
   "metadata": {
    "id": "4fecaf95"
   },
   "source": [
    "## Содержимое проекта\n",
    "\n",
    "1. Импорт библиотек и загрузка CSV-файла с данными.\n",
    "2. Проверка и удаление дубликатов по puid.\n",
    "3. Сравнение размеров выборок и описательных статистик (среднее, медиана, стандартное отклонение и др.).\n",
    "4. Проведение одностороннего t-теста для независимых выборок:\n",
    "- Нулевая гипотеза: средняя активность пользователей в СПб не больше, чем в Москве.\n",
    "- Альтернативная гипотеза: средняя активность в СПб больше, чем в Москве.\n",
    "5. Получение p-value и интерпретация результата.\n",
    "6. Аналитическая записка с выводами и возможными причинами."
   ]
  },
  {
   "cell_type": "markdown",
   "id": "6f7d21d6",
   "metadata": {
    "id": "6f7d21d6"
   },
   "source": [
    "## 1. Загрузка данных и знакомство с ними\n",
    "\n",
    "Загрузите данные пользователей из Москвы и Санкт-Петербурга c их активностью (суммой часов чтения и прослушивания) из файла `/datasets/yandex_knigi_data.csv`."
   ]
  },
  {
   "cell_type": "code",
   "execution_count": 1,
   "id": "05faf34b",
   "metadata": {
    "id": "05faf34b"
   },
   "outputs": [],
   "source": [
    "# Импортируем необходимые библиотеки\n",
    "import pandas as pd\n",
    "import matplotlib.pyplot as plt\n",
    "from scipy.stats import mannwhitneyu\n",
    "from statsmodels.stats.power import NormalIndPower\n",
    "from statsmodels.stats.proportion import proportion_effectsize\n",
    "from statsmodels.stats.proportion import proportions_ztest"
   ]
  },
  {
   "cell_type": "code",
   "execution_count": 2,
   "id": "ce87c1db",
   "metadata": {
    "id": "ce87c1db"
   },
   "outputs": [],
   "source": [
    "# Выгружаем данные\n",
    "df = pd.read_csv('/datasets/yandex_knigi_data.csv')"
   ]
  },
  {
   "cell_type": "code",
   "execution_count": 3,
   "id": "f68a7419",
   "metadata": {
    "id": "f68a7419",
    "scrolled": true
   },
   "outputs": [
    {
     "data": {
      "text/html": [
       "<div>\n",
       "<style scoped>\n",
       "    .dataframe tbody tr th:only-of-type {\n",
       "        vertical-align: middle;\n",
       "    }\n",
       "\n",
       "    .dataframe tbody tr th {\n",
       "        vertical-align: top;\n",
       "    }\n",
       "\n",
       "    .dataframe thead th {\n",
       "        text-align: right;\n",
       "    }\n",
       "</style>\n",
       "<table border=\"1\" class=\"dataframe\">\n",
       "  <thead>\n",
       "    <tr style=\"text-align: right;\">\n",
       "      <th></th>\n",
       "      <th>Unnamed: 0</th>\n",
       "      <th>city</th>\n",
       "      <th>puid</th>\n",
       "      <th>hours</th>\n",
       "    </tr>\n",
       "  </thead>\n",
       "  <tbody>\n",
       "    <tr>\n",
       "      <th>0</th>\n",
       "      <td>0</td>\n",
       "      <td>Москва</td>\n",
       "      <td>9668</td>\n",
       "      <td>26.167776</td>\n",
       "    </tr>\n",
       "    <tr>\n",
       "      <th>1</th>\n",
       "      <td>1</td>\n",
       "      <td>Москва</td>\n",
       "      <td>16598</td>\n",
       "      <td>82.111217</td>\n",
       "    </tr>\n",
       "    <tr>\n",
       "      <th>2</th>\n",
       "      <td>2</td>\n",
       "      <td>Москва</td>\n",
       "      <td>80401</td>\n",
       "      <td>4.656906</td>\n",
       "    </tr>\n",
       "    <tr>\n",
       "      <th>3</th>\n",
       "      <td>3</td>\n",
       "      <td>Москва</td>\n",
       "      <td>140205</td>\n",
       "      <td>1.840556</td>\n",
       "    </tr>\n",
       "    <tr>\n",
       "      <th>4</th>\n",
       "      <td>4</td>\n",
       "      <td>Москва</td>\n",
       "      <td>248755</td>\n",
       "      <td>151.326434</td>\n",
       "    </tr>\n",
       "  </tbody>\n",
       "</table>\n",
       "</div>"
      ],
      "text/plain": [
       "   Unnamed: 0    city    puid       hours\n",
       "0           0  Москва    9668   26.167776\n",
       "1           1  Москва   16598   82.111217\n",
       "2           2  Москва   80401    4.656906\n",
       "3           3  Москва  140205    1.840556\n",
       "4           4  Москва  248755  151.326434"
      ]
     },
     "execution_count": 3,
     "metadata": {},
     "output_type": "execute_result"
    }
   ],
   "source": [
    "# Выводим первые 5 строк\n",
    "df.head()"
   ]
  },
  {
   "cell_type": "code",
   "execution_count": 4,
   "id": "ada4a37a",
   "metadata": {},
   "outputs": [
    {
     "name": "stdout",
     "output_type": "stream",
     "text": [
      "<class 'pandas.core.frame.DataFrame'>\n",
      "RangeIndex: 8784 entries, 0 to 8783\n",
      "Data columns (total 4 columns):\n",
      " #   Column      Non-Null Count  Dtype  \n",
      "---  ------      --------------  -----  \n",
      " 0   Unnamed: 0  8784 non-null   int64  \n",
      " 1   city        8784 non-null   object \n",
      " 2   puid        8784 non-null   int64  \n",
      " 3   hours       8784 non-null   float64\n",
      "dtypes: float64(1), int64(2), object(1)\n",
      "memory usage: 274.6+ KB\n"
     ]
    }
   ],
   "source": [
    "# Выводим информацию о датафрейме\n",
    "df.info()"
   ]
  },
  {
   "cell_type": "markdown",
   "id": "fd247b18",
   "metadata": {},
   "source": [
    "Датафрейм имеет 4 столбца и 8560 строк \n",
    "Пропусков не найдено, типы данных корректны"
   ]
  },
  {
   "cell_type": "markdown",
   "id": "8e26c6b0",
   "metadata": {},
   "source": [
    "Теперь проверим столбец с индификаторами пользователей на наличие дубликатов, чтобы избежать искажение результатов"
   ]
  },
  {
   "cell_type": "code",
   "execution_count": 5,
   "id": "960995e8",
   "metadata": {
    "scrolled": true
   },
   "outputs": [
    {
     "data": {
      "text/plain": [
       "244"
      ]
     },
     "execution_count": 5,
     "metadata": {},
     "output_type": "execute_result"
    }
   ],
   "source": [
    "# Проверяем столбец на дубликаты\n",
    "df['puid'].duplicated().sum()"
   ]
  },
  {
   "cell_type": "code",
   "execution_count": 6,
   "id": "bae4cac0",
   "metadata": {},
   "outputs": [],
   "source": [
    "# Удаляем дубликаты\n",
    "df.drop_duplicates(subset='puid', inplace=True)"
   ]
  },
  {
   "cell_type": "code",
   "execution_count": 7,
   "id": "af6a97ba",
   "metadata": {},
   "outputs": [
    {
     "data": {
      "text/plain": [
       "0"
      ]
     },
     "execution_count": 7,
     "metadata": {},
     "output_type": "execute_result"
    }
   ],
   "source": [
    "# Проверяем результат\n",
    "df['puid'].duplicated().sum()"
   ]
  },
  {
   "cell_type": "markdown",
   "id": "956e82e2",
   "metadata": {
    "id": "956e82e2"
   },
   "source": [
    "## 2. Проверка гипотезы в Python\n",
    "\n",
    "Гипотеза звучит так: пользователи из Санкт-Петербурга проводят в среднем больше времени за чтением и прослушиванием книг в приложении, чем пользователи из Москвы. Попробуйте статистически это доказать, используя одностороннюю проверку гипотезы с двумя выборками:\n",
    "\n",
    "- Нулевая гипотеза H₀: Средняя активность пользователей в часах в Санкт-Петербурге не больше, чем в Москве, имеющееся различие статистически незначимо.\n",
    "\n",
    "- Альтернативная гипотеза H₁: Средняя активность пользователей в Санкт-Петербурге больше, и это различие статистически значимо."
   ]
  },
  {
   "cell_type": "code",
   "execution_count": 8,
   "id": "03585603",
   "metadata": {},
   "outputs": [
    {
     "data": {
      "text/plain": [
       "Москва             6234\n",
       "Санкт-Петербург    2306\n",
       "Name: city, dtype: int64"
      ]
     },
     "execution_count": 8,
     "metadata": {},
     "output_type": "execute_result"
    }
   ],
   "source": [
    "# Смотрим размеры выборок\n",
    "df['city'].value_counts()"
   ]
  },
  {
   "cell_type": "code",
   "execution_count": 9,
   "id": "35d9edc2",
   "metadata": {
    "scrolled": true
   },
   "outputs": [
    {
     "data": {
      "text/html": [
       "<div>\n",
       "<style scoped>\n",
       "    .dataframe tbody tr th:only-of-type {\n",
       "        vertical-align: middle;\n",
       "    }\n",
       "\n",
       "    .dataframe tbody tr th {\n",
       "        vertical-align: top;\n",
       "    }\n",
       "\n",
       "    .dataframe thead th {\n",
       "        text-align: right;\n",
       "    }\n",
       "</style>\n",
       "<table border=\"1\" class=\"dataframe\">\n",
       "  <thead>\n",
       "    <tr style=\"text-align: right;\">\n",
       "      <th></th>\n",
       "      <th>count</th>\n",
       "      <th>mean</th>\n",
       "      <th>std</th>\n",
       "      <th>min</th>\n",
       "      <th>25%</th>\n",
       "      <th>50%</th>\n",
       "      <th>75%</th>\n",
       "      <th>max</th>\n",
       "    </tr>\n",
       "    <tr>\n",
       "      <th>city</th>\n",
       "      <th></th>\n",
       "      <th></th>\n",
       "      <th></th>\n",
       "      <th></th>\n",
       "      <th></th>\n",
       "      <th></th>\n",
       "      <th></th>\n",
       "      <th></th>\n",
       "    </tr>\n",
       "  </thead>\n",
       "  <tbody>\n",
       "    <tr>\n",
       "      <th>Москва</th>\n",
       "      <td>6234.0</td>\n",
       "      <td>10.881092</td>\n",
       "      <td>36.851683</td>\n",
       "      <td>0.000018</td>\n",
       "      <td>0.059903</td>\n",
       "      <td>0.924498</td>\n",
       "      <td>5.939972</td>\n",
       "      <td>857.209373</td>\n",
       "    </tr>\n",
       "    <tr>\n",
       "      <th>Санкт-Петербург</th>\n",
       "      <td>2306.0</td>\n",
       "      <td>11.264433</td>\n",
       "      <td>39.831755</td>\n",
       "      <td>0.000025</td>\n",
       "      <td>0.060173</td>\n",
       "      <td>0.875355</td>\n",
       "      <td>6.138424</td>\n",
       "      <td>978.764775</td>\n",
       "    </tr>\n",
       "  </tbody>\n",
       "</table>\n",
       "</div>"
      ],
      "text/plain": [
       "                  count       mean        std       min       25%       50%  \\\n",
       "city                                                                          \n",
       "Москва           6234.0  10.881092  36.851683  0.000018  0.059903  0.924498   \n",
       "Санкт-Петербург  2306.0  11.264433  39.831755  0.000025  0.060173  0.875355   \n",
       "\n",
       "                      75%         max  \n",
       "city                                   \n",
       "Москва           5.939972  857.209373  \n",
       "Санкт-Петербург  6.138424  978.764775  "
      ]
     },
     "execution_count": 9,
     "metadata": {},
     "output_type": "execute_result"
    }
   ],
   "source": [
    "# Выводим статистические покаатели\n",
    "df.groupby('city')['hours'].describe()"
   ]
  },
  {
   "cell_type": "markdown",
   "id": "591afc13",
   "metadata": {},
   "source": [
    "На основе анализа можно сделать следующие выводы:\n",
    "- Данные и в Москве и в Санкт-Петербурге распределены ассиметрично\n",
    "- Медиана сильно меньше среднего значения, что говорит о выбросах. Это также подтверждает огромные максимальные показатели\n",
    "\n",
    "Значит для проверки гипотез нужно использовать тест, не чувствительный к выбросам и не требущий нормального распределения. **С этим справится непараметрический тест**"
   ]
  },
  {
   "cell_type": "code",
   "execution_count": 10,
   "id": "67956690",
   "metadata": {
    "id": "67956690"
   },
   "outputs": [
    {
     "name": "stdout",
     "output_type": "stream",
     "text": [
      "p_value = 0.6189600878052618\n",
      "Разница статистически незначительна. Нулевая гипотеза подтверждается\n"
     ]
    }
   ],
   "source": [
    "# Формируем группы\n",
    "moscow = df[df['city'] == 'Москва']['hours']\n",
    "spb = df[df['city'] == 'Санкт-Петербург']['hours']\n",
    "\n",
    "alpha = 0.05\n",
    "\n",
    "# Проводим статистический тест\n",
    "stat, p_value = mannwhitneyu(spb, moscow, alternative='greater')\n",
    "print(f'p_value = {p_value}')\n",
    "\n",
    "if p_value < alpha:\n",
    "    print('Разница статистически значимая. Альтернативная гипотеза подтверждается')\n",
    "else:\n",
    "    print('Разница статистически незначительна. Нулевая гипотеза подтверждается')"
   ]
  },
  {
   "cell_type": "markdown",
   "id": "6953e84c",
   "metadata": {
    "id": "6953e84c"
   },
   "source": [
    "## 3. Аналитическая записка\n",
    "По результатам анализа данных подготовьте аналитическую записку, в которой опишете:\n",
    "\n",
    "- Выбранный тип t-теста и уровень статистической значимости.\n",
    "\n",
    "- Результат теста, или p-value.\n",
    "\n",
    "- Вывод на основе полученного p-value, то есть интерпретацию результатов.\n",
    "\n",
    "- Одну или две возможные причины, объясняющие полученные результаты.\n",
    "\n"
   ]
  },
  {
   "cell_type": "markdown",
   "id": "0daa6d26",
   "metadata": {},
   "source": [
    "Для проверки гипотезы о различии средней активности пользователей в приложении между Москвой и Санкт-Петербургом был проведён **тест МУ**. Уровень статистической значимости был установлен на уровне **а = 0.05**.\n",
    "\n",
    "В результате теста было получено значение **p-value = 0.3382**, что значительно превышает пороговое значение **a**. Это означает, что нет оснований отвергнуть нулевую гипотезу. Следовательно, статистически значимых различий в средней активности пользователей между Москвой и Санкт-Петербургом **не выявлено**.\n",
    "\n",
    "Возможные причины полученного результата могут быть следующими:\n",
    "\n",
    "- Пользователи из двух городов действительно проводят схожее количество времени в приложении, и различия носят случайный характер.\n",
    "- Объём выборки или вариативность данных может быть недостаточной для выявления более тонких различий в поведении пользователей.\n",
    "- Аудитории в Москве и Санкт-Петербурге могут иметь схожий стиль использования приложения (например, одинаковые часы активности, цели использования и пр.).\n",
    "- Контент и функциональность приложения могут одинаково хорошо подходить обеим аудиториям, нивелируя возможные различия.\n",
    "\n",
    "\n",
    "**Таким образом, гипотеза о том, что пользователи из Санкт-Петербурга в среднем более активны, не подтверждается статистически**."
   ]
  },
  {
   "cell_type": "markdown",
   "id": "NqOUIYhbrIfC",
   "metadata": {
    "id": "NqOUIYhbrIfC"
   },
   "source": [
    "# Часть 2. Анализ результатов A/B-тестирования"
   ]
  },
  {
   "cell_type": "markdown",
   "id": "tDwMKFNGsClr",
   "metadata": {
    "id": "tDwMKFNGsClr"
   },
   "source": [
    "Теперь вам нужно проанализировать другие данные. Представьте, что к вам обратились представители интернет-магазина BitMotion Kit, в котором продаются геймифицированные товары для тех, кто ведёт здоровый образ жизни. У него есть своя целевая аудитория, даже появились хиты продаж: эспандер со счётчиком и напоминанием, так и подстольный велотренажёр с Bluetooth.\n",
    "\n",
    "В будущем компания хочет расширить ассортимент товаров. Но перед этим нужно решить одну проблему. Интерфейс онлайн-магазина слишком сложен для пользователей — об этом говорят отзывы.\n",
    "\n",
    "Чтобы привлечь новых клиентов и увеличить число продаж, владельцы магазина разработали новую версию сайта и протестировали его на части пользователей. По задумке, это решение доказуемо повысит количество пользователей, которые совершат покупку.\n",
    "\n",
    "Ваша задача — провести оценку результатов A/B-теста. В вашем распоряжении:\n",
    "\n",
    "* данные о действиях пользователей и распределении их на группы,\n",
    "\n",
    "* техническое задание.\n",
    "\n",
    "Оцените корректность проведения теста и проанализируйте его результаты."
   ]
  },
  {
   "cell_type": "markdown",
   "id": "UNXAAyF5r9Rk",
   "metadata": {
    "id": "UNXAAyF5r9Rk"
   },
   "source": [
    "## 1. Опишите цели исследования.\n",
    "\n"
   ]
  },
  {
   "cell_type": "markdown",
   "id": "kHx-51yES8bd",
   "metadata": {
    "id": "kHx-51yES8bd"
   },
   "source": [
    "**Цель исследования**: оценка влияния нового пользовательского интерфейса интернет-магазина BitMotion Kit на поведение пользователей. В частности, проверяется гипотеза о том, что обновлённый, более простой интерфейс способствует увеличению конверсии зарегистрированных пользователей в покупателей в течение первых 7 дней после регистрации.\n",
    "\n",
    "Для проверки этой гипотезы была проведена A/B-тестовая кампания, в рамках которой пользователи были случайным образом разделены на две группы:\n",
    "\n",
    "- Группа A (контрольная) — использовала текущую версию интерфейса.\n",
    "- Группа B (тестовая) — взаимодействовала с новой версией интерфейса.\n",
    "\n",
    "Главной метрикой исследования является **конверсия в покупку** в течение недели после регистрации."
   ]
  },
  {
   "cell_type": "markdown",
   "id": "_CZryx2OsH-s",
   "metadata": {
    "id": "_CZryx2OsH-s"
   },
   "source": [
    "## 2. Загрузите данные, оцените их целостность.\n"
   ]
  },
  {
   "cell_type": "code",
   "execution_count": 11,
   "id": "DjFcJbeGsTIg",
   "metadata": {
    "id": "DjFcJbeGsTIg"
   },
   "outputs": [],
   "source": [
    "# Выгружаем данные\n",
    "participants = pd.read_csv('https://code.s3.yandex.net/datasets/ab_test_participants.csv')\n",
    "events = pd.read_csv('https://code.s3.yandex.net/datasets/ab_test_events.zip',\n",
    "                     parse_dates=['event_dt'], low_memory=False)"
   ]
  },
  {
   "cell_type": "code",
   "execution_count": 12,
   "id": "27b8d56e",
   "metadata": {
    "scrolled": true
   },
   "outputs": [
    {
     "data": {
      "text/html": [
       "<div>\n",
       "<style scoped>\n",
       "    .dataframe tbody tr th:only-of-type {\n",
       "        vertical-align: middle;\n",
       "    }\n",
       "\n",
       "    .dataframe tbody tr th {\n",
       "        vertical-align: top;\n",
       "    }\n",
       "\n",
       "    .dataframe thead th {\n",
       "        text-align: right;\n",
       "    }\n",
       "</style>\n",
       "<table border=\"1\" class=\"dataframe\">\n",
       "  <thead>\n",
       "    <tr style=\"text-align: right;\">\n",
       "      <th></th>\n",
       "      <th>user_id</th>\n",
       "      <th>group</th>\n",
       "      <th>ab_test</th>\n",
       "      <th>device</th>\n",
       "    </tr>\n",
       "  </thead>\n",
       "  <tbody>\n",
       "    <tr>\n",
       "      <th>0</th>\n",
       "      <td>0002CE61FF2C4011</td>\n",
       "      <td>B</td>\n",
       "      <td>interface_eu_test</td>\n",
       "      <td>Mac</td>\n",
       "    </tr>\n",
       "    <tr>\n",
       "      <th>1</th>\n",
       "      <td>001064FEAAB631A1</td>\n",
       "      <td>B</td>\n",
       "      <td>recommender_system_test</td>\n",
       "      <td>Android</td>\n",
       "    </tr>\n",
       "    <tr>\n",
       "      <th>2</th>\n",
       "      <td>001064FEAAB631A1</td>\n",
       "      <td>A</td>\n",
       "      <td>interface_eu_test</td>\n",
       "      <td>Android</td>\n",
       "    </tr>\n",
       "    <tr>\n",
       "      <th>3</th>\n",
       "      <td>0010A1C096941592</td>\n",
       "      <td>A</td>\n",
       "      <td>recommender_system_test</td>\n",
       "      <td>Android</td>\n",
       "    </tr>\n",
       "    <tr>\n",
       "      <th>4</th>\n",
       "      <td>001E72F50D1C48FA</td>\n",
       "      <td>A</td>\n",
       "      <td>interface_eu_test</td>\n",
       "      <td>Mac</td>\n",
       "    </tr>\n",
       "  </tbody>\n",
       "</table>\n",
       "</div>"
      ],
      "text/plain": [
       "            user_id group                  ab_test   device\n",
       "0  0002CE61FF2C4011     B        interface_eu_test      Mac\n",
       "1  001064FEAAB631A1     B  recommender_system_test  Android\n",
       "2  001064FEAAB631A1     A        interface_eu_test  Android\n",
       "3  0010A1C096941592     A  recommender_system_test  Android\n",
       "4  001E72F50D1C48FA     A        interface_eu_test      Mac"
      ]
     },
     "execution_count": 12,
     "metadata": {},
     "output_type": "execute_result"
    }
   ],
   "source": [
    "# Выгружаем первые строки \n",
    "participants.head()"
   ]
  },
  {
   "cell_type": "code",
   "execution_count": 13,
   "id": "5fe5e5d1",
   "metadata": {},
   "outputs": [
    {
     "name": "stdout",
     "output_type": "stream",
     "text": [
      "<class 'pandas.core.frame.DataFrame'>\n",
      "RangeIndex: 14525 entries, 0 to 14524\n",
      "Data columns (total 4 columns):\n",
      " #   Column   Non-Null Count  Dtype \n",
      "---  ------   --------------  ----- \n",
      " 0   user_id  14525 non-null  object\n",
      " 1   group    14525 non-null  object\n",
      " 2   ab_test  14525 non-null  object\n",
      " 3   device   14525 non-null  object\n",
      "dtypes: object(4)\n",
      "memory usage: 454.0+ KB\n"
     ]
    }
   ],
   "source": [
    "# Смотрим информацию о датафрейме\n",
    "participants.info()"
   ]
  },
  {
   "cell_type": "markdown",
   "id": "5d01b9bf",
   "metadata": {},
   "source": [
    "Датафрейм имеет 4 столбца и 14525 строк Пропусков не найдено, типы данных корректны"
   ]
  },
  {
   "cell_type": "code",
   "execution_count": 14,
   "id": "a670b0a9",
   "metadata": {},
   "outputs": [
    {
     "data": {
      "text/plain": [
       "887"
      ]
     },
     "execution_count": 14,
     "metadata": {},
     "output_type": "execute_result"
    }
   ],
   "source": [
    "# Проверяем столбец с пользователями на дубликаты\n",
    "participants['user_id'].duplicated().sum()"
   ]
  },
  {
   "cell_type": "code",
   "execution_count": 15,
   "id": "d719248e",
   "metadata": {},
   "outputs": [
    {
     "data": {
      "text/html": [
       "<div>\n",
       "<style scoped>\n",
       "    .dataframe tbody tr th:only-of-type {\n",
       "        vertical-align: middle;\n",
       "    }\n",
       "\n",
       "    .dataframe tbody tr th {\n",
       "        vertical-align: top;\n",
       "    }\n",
       "\n",
       "    .dataframe thead th {\n",
       "        text-align: right;\n",
       "    }\n",
       "</style>\n",
       "<table border=\"1\" class=\"dataframe\">\n",
       "  <thead>\n",
       "    <tr style=\"text-align: right;\">\n",
       "      <th></th>\n",
       "      <th>user_id</th>\n",
       "      <th>event_dt</th>\n",
       "      <th>event_name</th>\n",
       "      <th>details</th>\n",
       "    </tr>\n",
       "  </thead>\n",
       "  <tbody>\n",
       "    <tr>\n",
       "      <th>0</th>\n",
       "      <td>GLOBAL</td>\n",
       "      <td>2020-12-01 00:00:00</td>\n",
       "      <td>End of Black Friday Ads Campaign</td>\n",
       "      <td>ZONE_CODE15</td>\n",
       "    </tr>\n",
       "    <tr>\n",
       "      <th>1</th>\n",
       "      <td>CCBE9E7E99F94A08</td>\n",
       "      <td>2020-12-01 00:00:11</td>\n",
       "      <td>registration</td>\n",
       "      <td>0.0</td>\n",
       "    </tr>\n",
       "    <tr>\n",
       "      <th>2</th>\n",
       "      <td>GLOBAL</td>\n",
       "      <td>2020-12-01 00:00:25</td>\n",
       "      <td>product_page</td>\n",
       "      <td>NaN</td>\n",
       "    </tr>\n",
       "    <tr>\n",
       "      <th>3</th>\n",
       "      <td>CCBE9E7E99F94A08</td>\n",
       "      <td>2020-12-01 00:00:33</td>\n",
       "      <td>login</td>\n",
       "      <td>NaN</td>\n",
       "    </tr>\n",
       "    <tr>\n",
       "      <th>4</th>\n",
       "      <td>CCBE9E7E99F94A08</td>\n",
       "      <td>2020-12-01 00:00:52</td>\n",
       "      <td>product_page</td>\n",
       "      <td>NaN</td>\n",
       "    </tr>\n",
       "  </tbody>\n",
       "</table>\n",
       "</div>"
      ],
      "text/plain": [
       "            user_id            event_dt                        event_name  \\\n",
       "0            GLOBAL 2020-12-01 00:00:00  End of Black Friday Ads Campaign   \n",
       "1  CCBE9E7E99F94A08 2020-12-01 00:00:11                      registration   \n",
       "2            GLOBAL 2020-12-01 00:00:25                      product_page   \n",
       "3  CCBE9E7E99F94A08 2020-12-01 00:00:33                             login   \n",
       "4  CCBE9E7E99F94A08 2020-12-01 00:00:52                      product_page   \n",
       "\n",
       "       details  \n",
       "0  ZONE_CODE15  \n",
       "1          0.0  \n",
       "2          NaN  \n",
       "3          NaN  \n",
       "4          NaN  "
      ]
     },
     "execution_count": 15,
     "metadata": {},
     "output_type": "execute_result"
    }
   ],
   "source": [
    "# Выводим первые строки\n",
    "events.head()"
   ]
  },
  {
   "cell_type": "code",
   "execution_count": 16,
   "id": "4c7d664d",
   "metadata": {
    "scrolled": true
   },
   "outputs": [
    {
     "name": "stdout",
     "output_type": "stream",
     "text": [
      "<class 'pandas.core.frame.DataFrame'>\n",
      "RangeIndex: 787286 entries, 0 to 787285\n",
      "Data columns (total 4 columns):\n",
      " #   Column      Non-Null Count   Dtype         \n",
      "---  ------      --------------   -----         \n",
      " 0   user_id     787286 non-null  object        \n",
      " 1   event_dt    787286 non-null  datetime64[ns]\n",
      " 2   event_name  787286 non-null  object        \n",
      " 3   details     249022 non-null  object        \n",
      "dtypes: datetime64[ns](1), object(3)\n",
      "memory usage: 24.0+ MB\n"
     ]
    }
   ],
   "source": [
    "# Смотрим основную информацию о датафрейме\n",
    "events.info()"
   ]
  },
  {
   "cell_type": "code",
   "execution_count": 17,
   "id": "5e57d8b1",
   "metadata": {
    "scrolled": true
   },
   "outputs": [
    {
     "data": {
      "text/plain": [
       "36318"
      ]
     },
     "execution_count": 17,
     "metadata": {},
     "output_type": "execute_result"
    }
   ],
   "source": [
    "# Проверяем на дубликаты\n",
    "events.duplicated().sum()"
   ]
  },
  {
   "cell_type": "code",
   "execution_count": 18,
   "id": "4b4aea87",
   "metadata": {},
   "outputs": [],
   "source": [
    "# Удаляем дубликаты\n",
    "events.drop_duplicates(inplace=True)"
   ]
  },
  {
   "cell_type": "code",
   "execution_count": 19,
   "id": "6ffbe083",
   "metadata": {},
   "outputs": [
    {
     "data": {
      "text/plain": [
       "0"
      ]
     },
     "execution_count": 19,
     "metadata": {},
     "output_type": "execute_result"
    }
   ],
   "source": [
    "# Проверяем результат\n",
    "events.duplicated().sum()"
   ]
  },
  {
   "cell_type": "markdown",
   "id": "4fd5b3ae",
   "metadata": {},
   "source": [
    "В датафрейме 4 столбца и 787286 строк. В столбце `details`  обнаружено 538262 пропуска. Скорее всего это связано с тем, что просто нет дополнительных данных. В рамках проекта этот столбец для анализа не понадобится, поэтому оставим как есть."
   ]
  },
  {
   "cell_type": "markdown",
   "id": "CnzA-efasUrk",
   "metadata": {
    "id": "CnzA-efasUrk"
   },
   "source": [
    "## 3. По таблице `ab_test_participants` оцените корректность проведения теста:\n",
    "\n",
    "   3\\.1 Выделите пользователей, участвующих в тесте, и проверьте:\n",
    "\n",
    "   - соответствие требованиям технического задания,\n",
    "\n",
    "   - равномерность распределения пользователей по группам теста,\n",
    "\n",
    "   - отсутствие пересечений с конкурирующим тестом (нет пользователей, участвующих одновременно в двух тестовых группах)."
   ]
  },
  {
   "cell_type": "code",
   "execution_count": 20,
   "id": "aNa3zHrKslEN",
   "metadata": {
    "id": "aNa3zHrKslEN"
   },
   "outputs": [],
   "source": [
    "# Создаем отфильтрованный по тесту датафрейм\n",
    "filtered_participants = participants[participants['ab_test'] == 'interface_eu_test']"
   ]
  },
  {
   "cell_type": "code",
   "execution_count": 21,
   "id": "9ef334eb",
   "metadata": {},
   "outputs": [
    {
     "data": {
      "text/plain": [
       "B    0.503871\n",
       "A    0.496129\n",
       "Name: group, dtype: float64"
      ]
     },
     "execution_count": 21,
     "metadata": {},
     "output_type": "execute_result"
    }
   ],
   "source": [
    "# Смотрим равномерность распределения пользователей по группам\n",
    "filtered_participants['group'].value_counts(normalize=True)"
   ]
  },
  {
   "cell_type": "markdown",
   "id": "5cdf710a",
   "metadata": {},
   "source": [
    "Пользователи равномерно распределены по группам."
   ]
  },
  {
   "cell_type": "code",
   "execution_count": 22,
   "id": "14b0ea09",
   "metadata": {},
   "outputs": [
    {
     "data": {
      "text/plain": [
       "[]"
      ]
     },
     "execution_count": 22,
     "metadata": {},
     "output_type": "execute_result"
    }
   ],
   "source": [
    "# Формируем группы\n",
    "users_a = filtered_participants[filtered_participants['group'] == 'A']['user_id']\n",
    "users_b = filtered_participants[filtered_participants['group'] == 'B']['user_id']\n",
    "\n",
    "# Ищем пересечения\n",
    "intersection = list(set(users_a) & set(users_b))\n",
    "intersection"
   ]
  },
  {
   "cell_type": "code",
   "execution_count": 23,
   "id": "6b6b3456",
   "metadata": {},
   "outputs": [
    {
     "data": {
      "text/plain": [
       "116"
      ]
     },
     "execution_count": 23,
     "metadata": {},
     "output_type": "execute_result"
    }
   ],
   "source": [
    "#Выделаем пользователей из группы В\n",
    "users_b = participants[participants['group'] == 'B']\n",
    "\n",
    "# Группируем по user_id и считаем количество уникальных тестов\n",
    "multi_test_users = users_b.groupby('user_id')['ab_test'].nunique()\n",
    "\n",
    "# Оставляем только тех, кто участвовал в более чем одном тесте\n",
    "multi_test_users = multi_test_users[multi_test_users > 1]\n",
    "\n",
    "# Посмотрим результат\n",
    "len(multi_test_users)"
   ]
  },
  {
   "cell_type": "code",
   "execution_count": 24,
   "id": "baa2bd69",
   "metadata": {},
   "outputs": [],
   "source": [
    "# Получим список user_id таких пользователей\n",
    "users_to_remove = multi_test_users.index\n",
    "\n",
    "# Удалим их из filtered_participants\n",
    "filtered_participants = filtered_participants[~filtered_participants['user_id'].isin(users_to_remove)]"
   ]
  },
  {
   "cell_type": "markdown",
   "id": "GjulgSrlsqUU",
   "metadata": {
    "id": "GjulgSrlsqUU"
   },
   "source": [
    "3\\.2 Проанализируйте данные о пользовательской активности по таблице `ab_test_events`:\n",
    "\n",
    "- оставьте только события, связанные с участвующими в изучаемом тесте пользователями;"
   ]
  },
  {
   "cell_type": "code",
   "execution_count": 25,
   "id": "QMt0Ybo_swDK",
   "metadata": {
    "id": "QMt0Ybo_swDK"
   },
   "outputs": [],
   "source": [
    "# Создаем отфильтрованный датафрейм\n",
    "filtered_events = events[events['user_id'].isin(filtered_participants['user_id'])]"
   ]
  },
  {
   "cell_type": "markdown",
   "id": "fBZ4DC2xswZJ",
   "metadata": {
    "id": "fBZ4DC2xswZJ"
   },
   "source": [
    "- определите горизонт анализа: рассчитайте время (лайфтайм) совершения события пользователем после регистрации и оставьте только те события, которые были выполнены в течение первых семи дней с момента регистрации;"
   ]
  },
  {
   "cell_type": "code",
   "execution_count": 26,
   "id": "0aeb2c6b",
   "metadata": {
    "id": "sES4-dKts0Yb"
   },
   "outputs": [],
   "source": [
    "# Ищем только события с регистрацией\n",
    "registrations = filtered_events[filtered_events['event_name'] == 'registration']\n",
    "\n",
    "# Находим для каждого пользователя дату регистарции \n",
    "first_reg = registrations.groupby('user_id')['event_dt'].min().reset_index()\n",
    "first_reg.rename(columns={'event_dt': 'registration_dt'}, inplace=True)\n",
    "\n",
    "events_merged = filtered_events.merge(first_reg, on='user_id', how='left')"
   ]
  },
  {
   "cell_type": "code",
   "execution_count": 27,
   "id": "sES4-dKts0Yb",
   "metadata": {
    "id": "sES4-dKts0Yb"
   },
   "outputs": [],
   "source": [
    "# Вычисляем лайфтайм (в днях)\n",
    "events_merged['lifetime_days'] = (events_merged['event_dt'] - events_merged['registration_dt']).dt.days\n",
    "\n",
    "# Оставляем события, совершённые в течение первых 7 дней\n",
    "events_in_7_days = events_merged[events_merged['lifetime_days'] <= 7]"
   ]
  },
  {
   "cell_type": "markdown",
   "id": "7cf1df48",
   "metadata": {},
   "source": [
    "Оцените достаточность выборки для получения статистически значимых результатов A/B-теста. Заданные параметры:\n",
    "\n",
    "- базовый показатель конверсии — 30%,\n",
    "\n",
    "- мощность теста — 80%,\n",
    "\n",
    "- достоверность теста — 95%."
   ]
  },
  {
   "cell_type": "code",
   "execution_count": 28,
   "id": "7d97b466",
   "metadata": {},
   "outputs": [
    {
     "name": "stdout",
     "output_type": "stream",
     "text": [
      "Необходимое количество пользователей в каждой группе: 3762\n"
     ]
    }
   ],
   "source": [
    "# Параметры\n",
    "baseline = 0.3        \n",
    "mde = 0.03            \n",
    "alpha = 0.05          \n",
    "power = 0.8           \n",
    "\n",
    "# Размер эффекта для бинарной метрики\n",
    "effect = proportion_effectsize(baseline, baseline + mde)\n",
    "\n",
    "# Инициализируем расчет мощности\n",
    "analysis = NormalIndPower()\n",
    "\n",
    "# Расчет нужного числа пользователей в каждой группе\n",
    "required_n = analysis.solve_power(effect_size=effect, power=power, alpha=alpha, alternative='two-sided')\n",
    "\n",
    "print(f\"Необходимое количество пользователей в каждой группе: {round(required_n)}\")"
   ]
  },
  {
   "cell_type": "markdown",
   "id": "SadyUDgZs0t3",
   "metadata": {
    "id": "SadyUDgZs0t3"
   },
   "source": [
    "- рассчитайте для каждой группы количество посетителей, сделавших покупку, и общее количество посетителей."
   ]
  },
  {
   "cell_type": "code",
   "execution_count": 29,
   "id": "7ph853Xks4sy",
   "metadata": {
    "id": "7ph853Xks4sy"
   },
   "outputs": [
    {
     "data": {
      "text/html": [
       "<div>\n",
       "<style scoped>\n",
       "    .dataframe tbody tr th:only-of-type {\n",
       "        vertical-align: middle;\n",
       "    }\n",
       "\n",
       "    .dataframe tbody tr th {\n",
       "        vertical-align: top;\n",
       "    }\n",
       "\n",
       "    .dataframe thead th {\n",
       "        text-align: right;\n",
       "    }\n",
       "</style>\n",
       "<table border=\"1\" class=\"dataframe\">\n",
       "  <thead>\n",
       "    <tr style=\"text-align: right;\">\n",
       "      <th></th>\n",
       "      <th>total_users</th>\n",
       "      <th>buyers</th>\n",
       "      <th>conversion</th>\n",
       "    </tr>\n",
       "    <tr>\n",
       "      <th>group</th>\n",
       "      <th></th>\n",
       "      <th></th>\n",
       "      <th></th>\n",
       "    </tr>\n",
       "  </thead>\n",
       "  <tbody>\n",
       "    <tr>\n",
       "      <th>A</th>\n",
       "      <td>5383</td>\n",
       "      <td>1542</td>\n",
       "      <td>0.29</td>\n",
       "    </tr>\n",
       "    <tr>\n",
       "      <th>B</th>\n",
       "      <td>5351</td>\n",
       "      <td>1665</td>\n",
       "      <td>0.31</td>\n",
       "    </tr>\n",
       "  </tbody>\n",
       "</table>\n",
       "</div>"
      ],
      "text/plain": [
       "       total_users  buyers  conversion\n",
       "group                                 \n",
       "A             5383    1542        0.29\n",
       "B             5351    1665        0.31"
      ]
     },
     "execution_count": 29,
     "metadata": {},
     "output_type": "execute_result"
    }
   ],
   "source": [
    "# Получим список покупателей — кто совершил событие \"purchase\"\n",
    "buyers = events_in_7_days[events_in_7_days['event_name'] == 'purchase']['user_id'].unique()\n",
    "\n",
    "# Добавим колонку \"покупал ли\" в таблицу участников\n",
    "filtered_participants['made_purchase'] = filtered_participants['user_id'].isin(buyers)\n",
    "\n",
    "# Сгруппируем по группам и посчитаем нужное\n",
    "conversion_summary = filtered_participants.groupby('group').agg(\n",
    "    total_users=('user_id', 'nunique'),\n",
    "    buyers=('made_purchase', 'sum')\n",
    ")\n",
    "\n",
    "# Добавим столбец с конверсией\n",
    "conversion_summary['conversion'] = round(conversion_summary['buyers'] / conversion_summary['total_users'], 2)\n",
    "\n",
    "conversion_summary"
   ]
  },
  {
   "cell_type": "markdown",
   "id": "sh1JpGvAs5E3",
   "metadata": {
    "id": "sh1JpGvAs5E3"
   },
   "source": [
    "- сделайте предварительный общий вывод об изменении пользовательской активности в тестовой группе по сравнению с контрольной."
   ]
  },
  {
   "cell_type": "markdown",
   "id": "4df02c55",
   "metadata": {
    "id": "hHTHPkJYs8mE"
   },
   "source": [
    "В результате A/B-тестирования, направленного на проверку влияния нового интерфейса интернет-магазина, были зафиксированы следующие показатели пользовательской активности:\n",
    "\n",
    "- В контрольной группе (А):\n",
    "из 5174 пользователей покупку совершили 1487, что составляет 29%.\n",
    "- В тестовой группе (B):\n",
    "из 5229 пользователей покупку совершили 1618, что составляет 31%.\n",
    "\n",
    "Таким образом, в тестовой группе наблюдается увеличение конверсии на 2 процентных пункта по сравнению с контрольной. Также стоит отметить, что фактический прирост конверсии в 2 п.п. не соответствует запланированному приросту в 3 п.п., поэтому эффект от изменений есть, но недостаточно высокий."
   ]
  },
  {
   "cell_type": "markdown",
   "id": "IKZ1Oo3Ws919",
   "metadata": {
    "id": "IKZ1Oo3Ws919"
   },
   "source": [
    "## 4. Проведите оценку результатов A/B-тестирования:"
   ]
  },
  {
   "cell_type": "markdown",
   "id": "dcUdBSmvtC-E",
   "metadata": {
    "id": "dcUdBSmvtC-E"
   },
   "source": [
    "- Проверьте изменение конверсии подходящим статистическим тестом, учитывая все этапы проверки гипотез."
   ]
  },
  {
   "cell_type": "markdown",
   "id": "cd0f40c8",
   "metadata": {},
   "source": [
    "**Нулевая гипотеза** \n",
    "Конверсия в тестовой группе не увеличилась на 3 процентных пункта по сравнению с контрольной группой.\n",
    "\n",
    "**Альтернативная гипотеза** \n",
    "Конверсия в тестовой группе увеличилась как минимум на 3 процентных пункта по сравнению с контрольной группой."
   ]
  },
  {
   "cell_type": "code",
   "execution_count": 30,
   "id": "6f06fe27",
   "metadata": {
    "id": "l_KOziBQtL3t"
   },
   "outputs": [],
   "source": [
    "# Упорядочим таблицу по нужному нам порядку\n",
    "conversion_ordered = conversion_summary.loc[['B', 'A']]  # важно: B идёт первой\n",
    "\n",
    "# Получим значения для теста\n",
    "count = conversion_ordered['buyers'].values\n",
    "nobs = conversion_ordered['total_users'].values"
   ]
  },
  {
   "cell_type": "code",
   "execution_count": 31,
   "id": "l_KOziBQtL3t",
   "metadata": {
    "id": "l_KOziBQtL3t"
   },
   "outputs": [
    {
     "name": "stdout",
     "output_type": "stream",
     "text": [
      "Z-статистика: -0.5999\n",
      "p-value: 0.7257\n",
      "Изменения статистически незначимы. Нулевая гипотеза пдтверждается.\n"
     ]
    }
   ],
   "source": [
    "# Односторонний тест: проверим, стала ли конверсия в группе B значительно выше\n",
    "z_stat, p_value = proportions_ztest(count, nobs, value=0.03, alternative='larger')\n",
    "\n",
    "alpha = 0.05\n",
    "\n",
    "print(f'Z-статистика: {z_stat:.4f}')\n",
    "print(f'p-value: {p_value:.4f}')\n",
    "\n",
    "if p_value < alpha:\n",
    "    print('Изменения статистически значимы. Альтернативная гипотеза подтверждается.')\n",
    "else:\n",
    "    print('Изменения статистически незначимы. Нулевая гипотеза пдтверждается.')"
   ]
  },
  {
   "cell_type": "markdown",
   "id": "9jkyKOjgtGoc",
   "metadata": {
    "id": "9jkyKOjgtGoc"
   },
   "source": [
    "- Опишите выводы по проведённой оценке результатов A/B-тестирования. Что можно сказать про результаты A/B-тестирования? Был ли достигнут ожидаемый эффект в изменении конверсии?"
   ]
  },
  {
   "cell_type": "markdown",
   "id": "npoPPSKytKvR",
   "metadata": {
    "id": "npoPPSKytKvR"
   },
   "source": [
    "В рамках проведённого исследования была проверена гипотеза о том, что упрощение интерфейса интернет-магазина BitMotion Kit приведёт к увеличению конверсии пользователей в покупку в течение первых семи дней после регистрации. Для этого был реализован A/B-тест, в котором пользователи случайным образом были распределены на две группы: \n",
    "- контрольную (A), использующую текущую версию интерфейса\n",
    "- и тестовую (B), взаимодействующую с обновлённым вариантом \n",
    "\n",
    "По результатам анализа пользовательской активности было установлено, что в контрольной группе из **5174** пользователей покупку совершили **1487**, что составляет **29%** конверсии, тогда как в тестовой группе из **5229** пользователей покупку совершили **1618**, что составляет **31%**. Таким образом, в тестовой группе наблюдается увеличение конверсии на 2 процентных пункта по сравнению с контрольной, что может свидетельствовать о потенциально положительном влиянии нового интерфейса на поведение пользователей. Однако последующая статистическая проверка с использованием Z-теста показала, что наблюдаемая разница не является статистически значимой при проверке прироста именно на 3 процентных пункта (**p-value = 0.8128**). Это означает, что полученные изменения могли возникнуть случайно и не подтверждают устойчивого эффекта от обновления интерфейса.\n",
    "\n",
    "В связи с этим можно сделать вывод, что на текущем этапе гипотеза не подтверждена. \n",
    "\n",
    "Рекомендуется либо повторить эксперимент на более крупной выборке, либо провести дополнительный анализ — например, по сегментам пользователей или типам устройств — чтобы убедиться в наличии или отсутствии эффекта от изменений."
   ]
  },
  {
   "cell_type": "markdown",
   "id": "2875c73d",
   "metadata": {},
   "source": [
    "<div style=\"border:solid Chocolate 2px; padding: 40px\">\n",
    "\n",
    "# Комментарий ревьюера: общий вывод по проекту.\n",
    "\n",
    "Ольга, проект получился на довольно хорошем уровне - отличная работа над проектом, молодец!\n",
    "\n",
    "Мне нравится твой аналитический подход к выполнению проекта, ты соблюдаешь структуру работы, выполняешь её последовательно - это очень хорошо! Шаги проекта выполнены по порядку согласно плану проекта, нет смысловых и структурных ям. Важно, что не забываешь про выводы.\n",
    "    \n",
    "Над проектом ещё стоит поработать - есть рекомендации по дополнению некоторых твоих шагов проекта. Такие рекомендации я отметил жёлтыми комментариями. Будет здорово, если ты учтёшь их - так проект станет структурно и содержательно более совершенным.\n",
    "    \n",
    "Также в работе есть критические замечания. К этим замечаниям я оставил пояснительные комментарии красного цвета, в которых перечислил возможные варианты дальнейших действий. Уверен, ты быстро с этим управишься:)\n",
    "    \n",
    "Если о том, что нужно сделать в рамках комментариев, будут возникать вопросы - оставь их, пожалуйста, в комментариях, и я отвечу на них во время следующего ревью.\n",
    "    \n",
    "Также буду рад ответить на любые твои вопросы по проекту или на какие-либо другие, если они у тебя имеются - оставь их в комментариях, и я постараюсь ответить:)\n",
    "    \n",
    "Жду твой проект на повторном ревью. До встречи:)"
   ]
  },
  {
   "cell_type": "markdown",
   "id": "fe60730b",
   "metadata": {},
   "source": [
    "<div style=\"border:solid Chocolate 2px; padding: 40px\">\n",
    "\n",
    "# Комментарий ревьюера: итоговый вывод по проекту.\n",
    "\n",
    "Ольга, все замечания учтены - проект принят!\n",
    "    \n",
    "Спасибо за хорошую работу над проектом, желаю успехов в дальнейшем обучении:)"
   ]
  }
 ],
 "metadata": {
  "ExecuteTimeLog": [
   {
    "duration": 405,
    "start_time": "2025-04-15T06:45:39.458Z"
   },
   {
    "duration": 427,
    "start_time": "2025-04-15T06:47:17.299Z"
   },
   {
    "duration": 38,
    "start_time": "2025-04-15T06:48:10.291Z"
   },
   {
    "duration": 13,
    "start_time": "2025-04-15T06:48:29.634Z"
   },
   {
    "duration": 14,
    "start_time": "2025-04-15T06:58:52.607Z"
   },
   {
    "duration": 72,
    "start_time": "2025-04-15T07:02:46.471Z"
   },
   {
    "duration": 38,
    "start_time": "2025-04-15T07:03:00.157Z"
   },
   {
    "duration": 9,
    "start_time": "2025-04-15T07:03:00.589Z"
   },
   {
    "duration": 12,
    "start_time": "2025-04-15T07:03:01.133Z"
   },
   {
    "duration": 6,
    "start_time": "2025-04-15T07:03:01.774Z"
   },
   {
    "duration": 5,
    "start_time": "2025-04-15T07:03:19.125Z"
   },
   {
    "duration": 14,
    "start_time": "2025-04-15T07:05:25.811Z"
   },
   {
    "duration": 5,
    "start_time": "2025-04-15T07:06:56.725Z"
   },
   {
    "duration": 5,
    "start_time": "2025-04-15T07:07:15.303Z"
   },
   {
    "duration": 538,
    "start_time": "2025-04-15T08:27:57.494Z"
   },
   {
    "duration": 6,
    "start_time": "2025-04-15T08:29:51.234Z"
   },
   {
    "duration": 9,
    "start_time": "2025-04-15T08:34:49.527Z"
   },
   {
    "duration": 5,
    "start_time": "2025-04-15T08:40:25.363Z"
   },
   {
    "duration": 9,
    "start_time": "2025-04-15T08:41:00.565Z"
   },
   {
    "duration": 11,
    "start_time": "2025-04-15T08:41:58.360Z"
   },
   {
    "duration": 74,
    "start_time": "2025-04-15T08:43:40.805Z"
   },
   {
    "duration": 7,
    "start_time": "2025-04-15T08:47:17.261Z"
   },
   {
    "duration": 21,
    "start_time": "2025-04-15T08:48:00.985Z"
   },
   {
    "duration": 3,
    "start_time": "2025-04-15T08:50:32.903Z"
   },
   {
    "duration": 14,
    "start_time": "2025-04-15T08:50:51.182Z"
   },
   {
    "duration": 1541,
    "start_time": "2025-04-15T09:07:19.492Z"
   },
   {
    "duration": 8,
    "start_time": "2025-04-15T09:07:31.027Z"
   },
   {
    "duration": 20,
    "start_time": "2025-04-15T09:09:55.070Z"
   },
   {
    "duration": 12,
    "start_time": "2025-04-15T09:10:14.031Z"
   },
   {
    "duration": 7,
    "start_time": "2025-04-15T09:11:24.917Z"
   },
   {
    "duration": 35,
    "start_time": "2025-04-15T09:11:56.963Z"
   },
   {
    "duration": 9,
    "start_time": "2025-04-15T09:12:11.403Z"
   },
   {
    "duration": 8,
    "start_time": "2025-04-15T09:12:39.219Z"
   },
   {
    "duration": 6,
    "start_time": "2025-04-15T09:12:59.785Z"
   },
   {
    "duration": 9,
    "start_time": "2025-04-15T09:13:29.855Z"
   },
   {
    "duration": 115,
    "start_time": "2025-04-15T09:13:40.552Z"
   },
   {
    "duration": 86,
    "start_time": "2025-04-15T09:18:44.205Z"
   },
   {
    "duration": 5,
    "start_time": "2025-04-15T09:18:49.335Z"
   },
   {
    "duration": 5,
    "start_time": "2025-04-15T09:18:59.329Z"
   },
   {
    "duration": 9,
    "start_time": "2025-04-15T09:19:37.468Z"
   },
   {
    "duration": 12,
    "start_time": "2025-04-15T09:22:14.049Z"
   },
   {
    "duration": 61,
    "start_time": "2025-04-15T09:27:58.125Z"
   },
   {
    "duration": 16,
    "start_time": "2025-04-15T09:29:03.741Z"
   },
   {
    "duration": 88,
    "start_time": "2025-04-15T09:29:11.932Z"
   },
   {
    "duration": 10,
    "start_time": "2025-04-15T09:57:28.970Z"
   },
   {
    "duration": 25,
    "start_time": "2025-04-15T09:58:35.215Z"
   },
   {
    "duration": 26,
    "start_time": "2025-04-15T09:59:57.149Z"
   },
   {
    "duration": 29,
    "start_time": "2025-04-15T10:00:18.229Z"
   },
   {
    "duration": 49,
    "start_time": "2025-04-15T10:00:31.407Z"
   },
   {
    "duration": 62,
    "start_time": "2025-04-15T10:00:45.142Z"
   },
   {
    "duration": 53,
    "start_time": "2025-04-15T10:04:26.197Z"
   },
   {
    "duration": 62,
    "start_time": "2025-04-15T10:06:33.952Z"
   },
   {
    "duration": 33,
    "start_time": "2025-04-15T10:08:53.475Z"
   },
   {
    "duration": 13,
    "start_time": "2025-04-15T10:13:41.785Z"
   },
   {
    "duration": 17,
    "start_time": "2025-04-15T10:19:43.230Z"
   },
   {
    "duration": 3,
    "start_time": "2025-04-15T10:20:04.787Z"
   },
   {
    "duration": 39,
    "start_time": "2025-04-15T10:20:05.133Z"
   },
   {
    "duration": 9,
    "start_time": "2025-04-15T10:20:05.173Z"
   },
   {
    "duration": 12,
    "start_time": "2025-04-15T10:20:05.366Z"
   },
   {
    "duration": 5,
    "start_time": "2025-04-15T10:20:06.707Z"
   },
   {
    "duration": 5,
    "start_time": "2025-04-15T10:20:07.164Z"
   },
   {
    "duration": 4,
    "start_time": "2025-04-15T10:20:07.420Z"
   },
   {
    "duration": 7,
    "start_time": "2025-04-15T10:20:07.932Z"
   },
   {
    "duration": 19,
    "start_time": "2025-04-15T10:20:08.123Z"
   },
   {
    "duration": 17,
    "start_time": "2025-04-15T10:20:08.524Z"
   },
   {
    "duration": 1567,
    "start_time": "2025-04-15T10:20:10.524Z"
   },
   {
    "duration": 9,
    "start_time": "2025-04-15T10:20:12.093Z"
   },
   {
    "duration": 40,
    "start_time": "2025-04-15T10:20:12.104Z"
   },
   {
    "duration": 7,
    "start_time": "2025-04-15T10:20:12.146Z"
   },
   {
    "duration": 11,
    "start_time": "2025-04-15T10:20:12.154Z"
   },
   {
    "duration": 6,
    "start_time": "2025-04-15T10:20:12.275Z"
   },
   {
    "duration": 9,
    "start_time": "2025-04-15T10:20:12.843Z"
   },
   {
    "duration": 113,
    "start_time": "2025-04-15T10:20:13.347Z"
   },
   {
    "duration": 6,
    "start_time": "2025-04-15T10:20:14.281Z"
   },
   {
    "duration": 7,
    "start_time": "2025-04-15T10:20:14.621Z"
   },
   {
    "duration": 11,
    "start_time": "2025-04-15T10:20:15.140Z"
   },
   {
    "duration": 79,
    "start_time": "2025-04-15T10:20:16.060Z"
   },
   {
    "duration": 63,
    "start_time": "2025-04-15T10:20:16.619Z"
   },
   {
    "duration": 16,
    "start_time": "2025-04-15T10:20:17.868Z"
   },
   {
    "duration": 17,
    "start_time": "2025-04-15T10:20:29.847Z"
   },
   {
    "duration": 11,
    "start_time": "2025-04-15T10:21:13.957Z"
   },
   {
    "duration": 23080,
    "start_time": "2025-04-15T10:23:10.187Z"
   },
   {
    "duration": 11,
    "start_time": "2025-04-15T10:23:38.829Z"
   },
   {
    "duration": 29,
    "start_time": "2025-04-15T10:24:50.162Z"
   },
   {
    "duration": 14,
    "start_time": "2025-04-15T10:25:55.361Z"
   },
   {
    "duration": 15,
    "start_time": "2025-04-15T10:35:57.286Z"
   },
   {
    "duration": 18,
    "start_time": "2025-04-15T10:38:47.951Z"
   },
   {
    "duration": 16,
    "start_time": "2025-04-15T10:39:00.543Z"
   },
   {
    "duration": 1508,
    "start_time": "2025-04-15T10:39:15.194Z"
   },
   {
    "duration": 9,
    "start_time": "2025-04-15T10:39:16.704Z"
   },
   {
    "duration": 12,
    "start_time": "2025-04-15T10:39:17.438Z"
   },
   {
    "duration": 6,
    "start_time": "2025-04-15T10:39:17.873Z"
   },
   {
    "duration": 8,
    "start_time": "2025-04-15T10:39:18.399Z"
   },
   {
    "duration": 6,
    "start_time": "2025-04-15T10:39:18.409Z"
   },
   {
    "duration": 10,
    "start_time": "2025-04-15T10:39:18.560Z"
   },
   {
    "duration": 120,
    "start_time": "2025-04-15T10:39:19.151Z"
   },
   {
    "duration": 6,
    "start_time": "2025-04-15T10:39:19.631Z"
   },
   {
    "duration": 8,
    "start_time": "2025-04-15T10:39:20.497Z"
   },
   {
    "duration": 11,
    "start_time": "2025-04-15T10:39:21.196Z"
   },
   {
    "duration": 77,
    "start_time": "2025-04-15T10:39:22.103Z"
   },
   {
    "duration": 62,
    "start_time": "2025-04-15T10:39:22.593Z"
   },
   {
    "duration": 14,
    "start_time": "2025-04-15T10:39:23.339Z"
   },
   {
    "duration": 16,
    "start_time": "2025-04-15T10:39:25.070Z"
   },
   {
    "duration": 19,
    "start_time": "2025-04-15T10:39:31.078Z"
   },
   {
    "duration": 67,
    "start_time": "2025-04-15T10:41:30.153Z"
   },
   {
    "duration": 126,
    "start_time": "2025-04-15T10:41:44.777Z"
   },
   {
    "duration": 70,
    "start_time": "2025-04-15T10:42:29.895Z"
   },
   {
    "duration": 21,
    "start_time": "2025-04-15T10:42:44.185Z"
   },
   {
    "duration": 31,
    "start_time": "2025-04-15T10:43:03.995Z"
   },
   {
    "duration": 33,
    "start_time": "2025-04-15T10:43:24.191Z"
   },
   {
    "duration": 5,
    "start_time": "2025-04-15T10:46:23.844Z"
   },
   {
    "duration": 3,
    "start_time": "2025-04-15T10:51:32.469Z"
   },
   {
    "duration": 11,
    "start_time": "2025-04-15T10:51:42.211Z"
   },
   {
    "duration": 6,
    "start_time": "2025-04-15T10:53:59.637Z"
   },
   {
    "duration": 5,
    "start_time": "2025-04-15T13:06:56.125Z"
   },
   {
    "duration": 7,
    "start_time": "2025-04-15T13:10:25.157Z"
   },
   {
    "duration": 1702,
    "start_time": "2025-04-15T13:16:04.523Z"
   },
   {
    "duration": 17,
    "start_time": "2025-04-15T13:16:35.169Z"
   },
   {
    "duration": 80,
    "start_time": "2025-04-15T13:28:24.826Z"
   },
   {
    "duration": 81,
    "start_time": "2025-04-15T13:29:48.743Z"
   },
   {
    "duration": 70,
    "start_time": "2025-04-15T13:29:59.612Z"
   },
   {
    "duration": 3,
    "start_time": "2025-04-15T13:30:17.528Z"
   },
   {
    "duration": 22,
    "start_time": "2025-04-15T13:30:17.666Z"
   },
   {
    "duration": 9,
    "start_time": "2025-04-15T13:30:17.695Z"
   },
   {
    "duration": 12,
    "start_time": "2025-04-15T13:30:18.235Z"
   },
   {
    "duration": 62,
    "start_time": "2025-04-15T13:30:18.250Z"
   },
   {
    "duration": 48,
    "start_time": "2025-04-15T13:30:18.314Z"
   },
   {
    "duration": 13,
    "start_time": "2025-04-15T13:30:18.364Z"
   },
   {
    "duration": 33,
    "start_time": "2025-04-15T13:30:18.380Z"
   },
   {
    "duration": 48,
    "start_time": "2025-04-15T13:30:18.447Z"
   },
   {
    "duration": 16,
    "start_time": "2025-04-15T13:30:18.612Z"
   },
   {
    "duration": 1779,
    "start_time": "2025-04-15T13:30:19.370Z"
   },
   {
    "duration": 10,
    "start_time": "2025-04-15T13:30:21.151Z"
   },
   {
    "duration": 32,
    "start_time": "2025-04-15T13:30:21.163Z"
   },
   {
    "duration": 14,
    "start_time": "2025-04-15T13:30:21.198Z"
   },
   {
    "duration": 30,
    "start_time": "2025-04-15T13:30:21.214Z"
   },
   {
    "duration": 18,
    "start_time": "2025-04-15T13:30:21.246Z"
   },
   {
    "duration": 54,
    "start_time": "2025-04-15T13:30:21.266Z"
   },
   {
    "duration": 150,
    "start_time": "2025-04-15T13:30:21.322Z"
   },
   {
    "duration": 6,
    "start_time": "2025-04-15T13:30:21.545Z"
   },
   {
    "duration": 7,
    "start_time": "2025-04-15T13:30:21.628Z"
   },
   {
    "duration": 10,
    "start_time": "2025-04-15T13:30:21.796Z"
   },
   {
    "duration": 78,
    "start_time": "2025-04-15T13:30:22.047Z"
   },
   {
    "duration": 62,
    "start_time": "2025-04-15T13:30:22.978Z"
   },
   {
    "duration": 17,
    "start_time": "2025-04-15T13:30:23.149Z"
   },
   {
    "duration": 75,
    "start_time": "2025-04-15T13:30:23.581Z"
   },
   {
    "duration": 34,
    "start_time": "2025-04-15T13:30:36.229Z"
   },
   {
    "duration": 41,
    "start_time": "2025-04-15T13:30:49.741Z"
   },
   {
    "duration": 5,
    "start_time": "2025-04-15T13:47:39.643Z"
   },
   {
    "duration": 1356,
    "start_time": "2025-04-15T13:51:23.274Z"
   },
   {
    "duration": 42,
    "start_time": "2025-04-15T13:51:24.632Z"
   },
   {
    "duration": 23,
    "start_time": "2025-04-15T13:51:24.677Z"
   },
   {
    "duration": 15,
    "start_time": "2025-04-15T13:51:24.703Z"
   },
   {
    "duration": 17,
    "start_time": "2025-04-15T13:51:24.721Z"
   },
   {
    "duration": 8,
    "start_time": "2025-04-15T13:51:24.740Z"
   },
   {
    "duration": 6,
    "start_time": "2025-04-15T13:51:24.750Z"
   },
   {
    "duration": 14,
    "start_time": "2025-04-15T13:51:24.758Z"
   },
   {
    "duration": 66,
    "start_time": "2025-04-15T13:51:24.775Z"
   },
   {
    "duration": 26,
    "start_time": "2025-04-15T13:51:24.843Z"
   },
   {
    "duration": 2215,
    "start_time": "2025-04-15T13:51:24.872Z"
   },
   {
    "duration": 8,
    "start_time": "2025-04-15T13:51:27.089Z"
   },
   {
    "duration": 21,
    "start_time": "2025-04-15T13:51:27.100Z"
   },
   {
    "duration": 16,
    "start_time": "2025-04-15T13:51:27.124Z"
   },
   {
    "duration": 31,
    "start_time": "2025-04-15T13:51:27.142Z"
   },
   {
    "duration": 7,
    "start_time": "2025-04-15T13:51:27.175Z"
   },
   {
    "duration": 10,
    "start_time": "2025-04-15T13:51:27.183Z"
   },
   {
    "duration": 141,
    "start_time": "2025-04-15T13:51:27.195Z"
   },
   {
    "duration": 6,
    "start_time": "2025-04-15T13:51:27.338Z"
   },
   {
    "duration": 12,
    "start_time": "2025-04-15T13:51:27.346Z"
   },
   {
    "duration": 13,
    "start_time": "2025-04-15T13:51:27.360Z"
   },
   {
    "duration": 120,
    "start_time": "2025-04-15T13:51:27.375Z"
   },
   {
    "duration": 70,
    "start_time": "2025-04-15T13:51:27.497Z"
   },
   {
    "duration": 14,
    "start_time": "2025-04-15T13:51:27.569Z"
   },
   {
    "duration": 34,
    "start_time": "2025-04-15T13:51:27.585Z"
   },
   {
    "duration": 20,
    "start_time": "2025-04-15T13:51:27.621Z"
   },
   {
    "duration": 53,
    "start_time": "2025-04-16T14:15:45.281Z"
   },
   {
    "duration": 1404,
    "start_time": "2025-04-16T14:15:52.086Z"
   },
   {
    "duration": 27,
    "start_time": "2025-04-16T14:15:53.492Z"
   },
   {
    "duration": 13,
    "start_time": "2025-04-16T14:15:53.521Z"
   },
   {
    "duration": 14,
    "start_time": "2025-04-16T14:15:53.536Z"
   },
   {
    "duration": 6,
    "start_time": "2025-04-16T14:15:53.561Z"
   },
   {
    "duration": 7,
    "start_time": "2025-04-16T14:15:53.569Z"
   },
   {
    "duration": 11,
    "start_time": "2025-04-16T14:15:53.577Z"
   },
   {
    "duration": 15,
    "start_time": "2025-04-16T14:15:53.590Z"
   },
   {
    "duration": 21,
    "start_time": "2025-04-16T14:15:53.606Z"
   },
   {
    "duration": 41,
    "start_time": "2025-04-16T14:15:53.630Z"
   },
   {
    "duration": 2169,
    "start_time": "2025-04-16T14:15:53.673Z"
   },
   {
    "duration": 18,
    "start_time": "2025-04-16T14:15:55.843Z"
   },
   {
    "duration": 14,
    "start_time": "2025-04-16T14:15:55.863Z"
   },
   {
    "duration": 21,
    "start_time": "2025-04-16T14:15:55.879Z"
   },
   {
    "duration": 9,
    "start_time": "2025-04-16T14:15:55.902Z"
   },
   {
    "duration": 114,
    "start_time": "2025-04-16T14:15:55.913Z"
   },
   {
    "duration": 17,
    "start_time": "2025-04-16T14:15:56.029Z"
   },
   {
    "duration": 119,
    "start_time": "2025-04-16T14:15:56.048Z"
   },
   {
    "duration": 377,
    "start_time": "2025-04-16T14:15:56.169Z"
   },
   {
    "duration": 5,
    "start_time": "2025-04-16T14:15:56.548Z"
   },
   {
    "duration": 9,
    "start_time": "2025-04-16T14:15:56.561Z"
   },
   {
    "duration": 12,
    "start_time": "2025-04-16T14:15:56.571Z"
   },
   {
    "duration": 98,
    "start_time": "2025-04-16T14:15:56.585Z"
   },
   {
    "duration": 51,
    "start_time": "2025-04-16T14:15:56.685Z"
   },
   {
    "duration": 35,
    "start_time": "2025-04-16T14:15:56.738Z"
   },
   {
    "duration": 18,
    "start_time": "2025-04-16T14:15:56.774Z"
   },
   {
    "duration": 32,
    "start_time": "2025-04-16T14:15:56.794Z"
   },
   {
    "duration": 3,
    "start_time": "2025-04-16T14:15:56.829Z"
   },
   {
    "duration": 8,
    "start_time": "2025-04-16T14:15:56.860Z"
   },
   {
    "duration": 417,
    "start_time": "2025-04-16T14:16:50.259Z"
   },
   {
    "duration": 365,
    "start_time": "2025-04-16T14:16:58.544Z"
   },
   {
    "duration": 4,
    "start_time": "2025-04-16T14:40:21.539Z"
   },
   {
    "duration": 4,
    "start_time": "2025-04-16T14:40:22.330Z"
   },
   {
    "duration": 8,
    "start_time": "2025-04-16T14:40:23.315Z"
   },
   {
    "duration": 4,
    "start_time": "2025-04-16T14:40:40.345Z"
   },
   {
    "duration": 7,
    "start_time": "2025-04-16T14:40:42.225Z"
   },
   {
    "duration": 3,
    "start_time": "2025-04-16T14:41:09.304Z"
   },
   {
    "duration": 116,
    "start_time": "2025-04-16T14:41:23.231Z"
   },
   {
    "duration": 8,
    "start_time": "2025-04-16T14:41:43.289Z"
   },
   {
    "duration": 6,
    "start_time": "2025-04-16T14:42:53.857Z"
   },
   {
    "duration": 4,
    "start_time": "2025-04-16T14:42:55.332Z"
   },
   {
    "duration": 5,
    "start_time": "2025-04-16T14:42:56.996Z"
   },
   {
    "duration": 5,
    "start_time": "2025-04-16T14:44:22.865Z"
   },
   {
    "duration": 8,
    "start_time": "2025-04-16T14:44:54.173Z"
   },
   {
    "duration": 5,
    "start_time": "2025-04-16T14:45:21.635Z"
   },
   {
    "duration": 6,
    "start_time": "2025-04-16T14:45:22.637Z"
   },
   {
    "duration": 15,
    "start_time": "2025-04-16T14:53:29.694Z"
   },
   {
    "duration": 15,
    "start_time": "2025-04-16T14:53:46.069Z"
   },
   {
    "duration": 15,
    "start_time": "2025-04-16T14:54:04.079Z"
   },
   {
    "duration": 27,
    "start_time": "2025-04-16T14:55:25.042Z"
   },
   {
    "duration": 15,
    "start_time": "2025-04-16T14:55:40.314Z"
   },
   {
    "duration": 1294,
    "start_time": "2025-04-16T19:56:07.453Z"
   },
   {
    "duration": 36,
    "start_time": "2025-04-16T19:56:08.750Z"
   },
   {
    "duration": 13,
    "start_time": "2025-04-16T19:56:08.788Z"
   },
   {
    "duration": 22,
    "start_time": "2025-04-16T19:56:08.802Z"
   },
   {
    "duration": 4,
    "start_time": "2025-04-16T19:56:08.827Z"
   },
   {
    "duration": 13,
    "start_time": "2025-04-16T19:56:08.832Z"
   },
   {
    "duration": 4,
    "start_time": "2025-04-16T19:56:08.846Z"
   },
   {
    "duration": 9,
    "start_time": "2025-04-16T19:56:08.851Z"
   },
   {
    "duration": 23,
    "start_time": "2025-04-16T19:56:08.862Z"
   },
   {
    "duration": 21,
    "start_time": "2025-04-16T19:56:08.887Z"
   },
   {
    "duration": 2026,
    "start_time": "2025-04-16T19:56:08.909Z"
   },
   {
    "duration": 7,
    "start_time": "2025-04-16T19:56:10.937Z"
   },
   {
    "duration": 27,
    "start_time": "2025-04-16T19:56:10.945Z"
   },
   {
    "duration": 16,
    "start_time": "2025-04-16T19:56:10.974Z"
   },
   {
    "duration": 16,
    "start_time": "2025-04-16T19:56:10.991Z"
   },
   {
    "duration": 114,
    "start_time": "2025-04-16T19:56:11.009Z"
   },
   {
    "duration": 286,
    "start_time": "2025-04-16T19:56:11.124Z"
   },
   {
    "duration": 5,
    "start_time": "2025-04-16T19:56:11.411Z"
   },
   {
    "duration": 9,
    "start_time": "2025-04-16T19:56:11.417Z"
   },
   {
    "duration": 9,
    "start_time": "2025-04-16T19:56:11.427Z"
   },
   {
    "duration": 41,
    "start_time": "2025-04-16T19:56:11.437Z"
   },
   {
    "duration": 117,
    "start_time": "2025-04-16T19:56:11.479Z"
   },
   {
    "duration": 39,
    "start_time": "2025-04-16T19:56:11.597Z"
   },
   {
    "duration": 28,
    "start_time": "2025-04-16T19:56:11.637Z"
   },
   {
    "duration": 13,
    "start_time": "2025-04-16T19:56:11.667Z"
   },
   {
    "duration": 26,
    "start_time": "2025-04-16T19:56:11.681Z"
   },
   {
    "duration": 4,
    "start_time": "2025-04-16T19:56:11.708Z"
   },
   {
    "duration": 6,
    "start_time": "2025-04-16T19:56:11.713Z"
   },
   {
    "duration": 56,
    "start_time": "2025-04-17T19:23:09.879Z"
   },
   {
    "duration": 1266,
    "start_time": "2025-04-17T19:23:16.542Z"
   },
   {
    "duration": 36,
    "start_time": "2025-04-17T19:23:17.810Z"
   },
   {
    "duration": 11,
    "start_time": "2025-04-17T19:23:17.848Z"
   },
   {
    "duration": 15,
    "start_time": "2025-04-17T19:23:17.861Z"
   },
   {
    "duration": 4,
    "start_time": "2025-04-17T19:23:17.877Z"
   },
   {
    "duration": 7,
    "start_time": "2025-04-17T19:23:17.882Z"
   },
   {
    "duration": 6,
    "start_time": "2025-04-17T19:23:17.890Z"
   },
   {
    "duration": 6,
    "start_time": "2025-04-17T19:23:17.897Z"
   },
   {
    "duration": 43,
    "start_time": "2025-04-17T19:23:17.904Z"
   },
   {
    "duration": 14,
    "start_time": "2025-04-17T19:23:17.950Z"
   },
   {
    "duration": 1438,
    "start_time": "2025-04-17T19:23:17.965Z"
   },
   {
    "duration": 8,
    "start_time": "2025-04-17T19:23:19.404Z"
   },
   {
    "duration": 23,
    "start_time": "2025-04-17T19:23:19.413Z"
   },
   {
    "duration": 8,
    "start_time": "2025-04-17T19:23:19.437Z"
   },
   {
    "duration": 8,
    "start_time": "2025-04-17T19:23:19.447Z"
   },
   {
    "duration": 117,
    "start_time": "2025-04-17T19:23:19.457Z"
   },
   {
    "duration": 318,
    "start_time": "2025-04-17T19:23:19.576Z"
   },
   {
    "duration": 346,
    "start_time": "2025-04-17T19:23:19.896Z"
   },
   {
    "duration": 4,
    "start_time": "2025-04-17T19:23:20.244Z"
   },
   {
    "duration": 13,
    "start_time": "2025-04-17T19:23:20.250Z"
   },
   {
    "duration": 8,
    "start_time": "2025-04-17T19:23:20.265Z"
   },
   {
    "duration": 70,
    "start_time": "2025-04-17T19:23:20.275Z"
   },
   {
    "duration": 88,
    "start_time": "2025-04-17T19:23:20.347Z"
   },
   {
    "duration": 66,
    "start_time": "2025-04-17T19:23:20.437Z"
   },
   {
    "duration": 13,
    "start_time": "2025-04-17T19:23:20.505Z"
   },
   {
    "duration": 14,
    "start_time": "2025-04-17T19:23:20.519Z"
   },
   {
    "duration": 29,
    "start_time": "2025-04-17T19:23:20.534Z"
   },
   {
    "duration": 3,
    "start_time": "2025-04-17T19:23:20.566Z"
   },
   {
    "duration": 24,
    "start_time": "2025-04-17T19:23:20.571Z"
   },
   {
    "duration": 353,
    "start_time": "2025-04-17T19:23:51.853Z"
   },
   {
    "duration": 283,
    "start_time": "2025-04-17T19:24:08.530Z"
   },
   {
    "duration": 12,
    "start_time": "2025-04-17T19:34:10.474Z"
   },
   {
    "duration": 1056,
    "start_time": "2025-04-17T19:34:26.845Z"
   },
   {
    "duration": 25,
    "start_time": "2025-04-17T19:34:27.903Z"
   },
   {
    "duration": 16,
    "start_time": "2025-04-17T19:34:27.929Z"
   },
   {
    "duration": 23,
    "start_time": "2025-04-17T19:34:27.946Z"
   },
   {
    "duration": 4,
    "start_time": "2025-04-17T19:34:27.971Z"
   },
   {
    "duration": 10,
    "start_time": "2025-04-17T19:34:27.977Z"
   },
   {
    "duration": 11,
    "start_time": "2025-04-17T19:34:27.988Z"
   },
   {
    "duration": 19,
    "start_time": "2025-04-17T19:34:28.001Z"
   },
   {
    "duration": 69,
    "start_time": "2025-04-17T19:34:28.022Z"
   },
   {
    "duration": 33,
    "start_time": "2025-04-17T19:34:28.093Z"
   },
   {
    "duration": 1662,
    "start_time": "2025-04-17T19:34:28.128Z"
   },
   {
    "duration": 8,
    "start_time": "2025-04-17T19:34:29.791Z"
   },
   {
    "duration": 46,
    "start_time": "2025-04-17T19:34:29.801Z"
   },
   {
    "duration": 49,
    "start_time": "2025-04-17T19:34:29.850Z"
   },
   {
    "duration": 41,
    "start_time": "2025-04-17T19:34:29.900Z"
   },
   {
    "duration": 132,
    "start_time": "2025-04-17T19:34:29.942Z"
   },
   {
    "duration": 311,
    "start_time": "2025-04-17T19:34:30.076Z"
   },
   {
    "duration": 354,
    "start_time": "2025-04-17T19:34:30.388Z"
   },
   {
    "duration": 305,
    "start_time": "2025-04-17T19:34:30.743Z"
   },
   {
    "duration": 6,
    "start_time": "2025-04-17T19:34:31.049Z"
   },
   {
    "duration": 48,
    "start_time": "2025-04-17T19:34:31.057Z"
   },
   {
    "duration": 52,
    "start_time": "2025-04-17T19:34:31.107Z"
   },
   {
    "duration": 61,
    "start_time": "2025-04-17T19:34:31.161Z"
   },
   {
    "duration": 86,
    "start_time": "2025-04-17T19:34:31.224Z"
   },
   {
    "duration": 61,
    "start_time": "2025-04-17T19:34:31.312Z"
   },
   {
    "duration": 15,
    "start_time": "2025-04-17T19:34:31.374Z"
   },
   {
    "duration": 32,
    "start_time": "2025-04-17T19:34:31.391Z"
   },
   {
    "duration": 82,
    "start_time": "2025-04-17T19:34:31.424Z"
   },
   {
    "duration": 14,
    "start_time": "2025-04-17T19:34:31.507Z"
   },
   {
    "duration": 30,
    "start_time": "2025-04-17T19:34:31.522Z"
   },
   {
    "duration": 12,
    "start_time": "2025-04-17T19:34:59.306Z"
   },
   {
    "duration": 1114,
    "start_time": "2025-04-17T19:40:01.177Z"
   },
   {
    "duration": 35,
    "start_time": "2025-04-17T19:40:02.293Z"
   },
   {
    "duration": 17,
    "start_time": "2025-04-17T19:40:02.330Z"
   },
   {
    "duration": 45,
    "start_time": "2025-04-17T19:40:02.349Z"
   },
   {
    "duration": 74,
    "start_time": "2025-04-17T19:40:02.396Z"
   },
   {
    "duration": 31,
    "start_time": "2025-04-17T19:40:02.471Z"
   },
   {
    "duration": 30,
    "start_time": "2025-04-17T19:40:02.503Z"
   },
   {
    "duration": 30,
    "start_time": "2025-04-17T19:40:02.534Z"
   },
   {
    "duration": 66,
    "start_time": "2025-04-17T19:40:02.566Z"
   },
   {
    "duration": 14,
    "start_time": "2025-04-17T19:40:02.633Z"
   },
   {
    "duration": 1487,
    "start_time": "2025-04-17T19:40:02.649Z"
   },
   {
    "duration": 7,
    "start_time": "2025-04-17T19:40:04.138Z"
   },
   {
    "duration": 162,
    "start_time": "2025-04-17T19:40:04.147Z"
   },
   {
    "duration": 23,
    "start_time": "2025-04-17T19:40:04.311Z"
   },
   {
    "duration": 9,
    "start_time": "2025-04-17T19:40:04.336Z"
   },
   {
    "duration": 144,
    "start_time": "2025-04-17T19:40:04.346Z"
   },
   {
    "duration": 320,
    "start_time": "2025-04-17T19:40:04.492Z"
   },
   {
    "duration": 344,
    "start_time": "2025-04-17T19:40:04.813Z"
   },
   {
    "duration": 304,
    "start_time": "2025-04-17T19:40:05.158Z"
   },
   {
    "duration": 5,
    "start_time": "2025-04-17T19:40:05.464Z"
   },
   {
    "duration": 36,
    "start_time": "2025-04-17T19:40:05.470Z"
   },
   {
    "duration": 25,
    "start_time": "2025-04-17T19:40:05.507Z"
   },
   {
    "duration": 14,
    "start_time": "2025-04-17T19:40:05.533Z"
   },
   {
    "duration": 73,
    "start_time": "2025-04-17T19:40:05.548Z"
   },
   {
    "duration": 47,
    "start_time": "2025-04-17T19:40:05.622Z"
   },
   {
    "duration": 13,
    "start_time": "2025-04-17T19:40:05.671Z"
   },
   {
    "duration": 87,
    "start_time": "2025-04-17T19:40:05.686Z"
   },
   {
    "duration": 30,
    "start_time": "2025-04-17T19:40:05.774Z"
   },
   {
    "duration": 6,
    "start_time": "2025-04-17T19:40:05.805Z"
   },
   {
    "duration": 11,
    "start_time": "2025-04-17T19:40:05.812Z"
   },
   {
    "duration": 5,
    "start_time": "2025-04-17T19:40:33.470Z"
   },
   {
    "duration": 1111,
    "start_time": "2025-04-17T19:45:40.495Z"
   },
   {
    "duration": 24,
    "start_time": "2025-04-17T19:45:41.608Z"
   },
   {
    "duration": 11,
    "start_time": "2025-04-17T19:45:41.633Z"
   },
   {
    "duration": 13,
    "start_time": "2025-04-17T19:45:41.646Z"
   },
   {
    "duration": 11,
    "start_time": "2025-04-17T19:45:41.661Z"
   },
   {
    "duration": 11,
    "start_time": "2025-04-17T19:45:41.673Z"
   },
   {
    "duration": 96,
    "start_time": "2025-04-17T19:45:41.686Z"
   },
   {
    "duration": 19,
    "start_time": "2025-04-17T19:45:41.783Z"
   },
   {
    "duration": 24,
    "start_time": "2025-04-17T19:45:41.804Z"
   },
   {
    "duration": 14,
    "start_time": "2025-04-17T19:45:41.831Z"
   },
   {
    "duration": 1536,
    "start_time": "2025-04-17T19:45:41.847Z"
   },
   {
    "duration": 8,
    "start_time": "2025-04-17T19:45:43.385Z"
   },
   {
    "duration": 16,
    "start_time": "2025-04-17T19:45:43.394Z"
   },
   {
    "duration": 24,
    "start_time": "2025-04-17T19:45:43.412Z"
   },
   {
    "duration": 8,
    "start_time": "2025-04-17T19:45:43.438Z"
   },
   {
    "duration": 125,
    "start_time": "2025-04-17T19:45:43.447Z"
   },
   {
    "duration": 354,
    "start_time": "2025-04-17T19:45:43.574Z"
   },
   {
    "duration": 351,
    "start_time": "2025-04-17T19:45:43.936Z"
   },
   {
    "duration": 341,
    "start_time": "2025-04-17T19:45:44.289Z"
   },
   {
    "duration": 6,
    "start_time": "2025-04-17T19:45:44.632Z"
   },
   {
    "duration": 8,
    "start_time": "2025-04-17T19:45:44.640Z"
   },
   {
    "duration": 32,
    "start_time": "2025-04-17T19:45:44.650Z"
   },
   {
    "duration": 18,
    "start_time": "2025-04-17T19:45:44.683Z"
   },
   {
    "duration": 7,
    "start_time": "2025-04-17T19:45:44.703Z"
   },
   {
    "duration": 95,
    "start_time": "2025-04-17T19:45:44.711Z"
   },
   {
    "duration": 51,
    "start_time": "2025-04-17T19:45:44.807Z"
   },
   {
    "duration": 12,
    "start_time": "2025-04-17T19:45:44.859Z"
   },
   {
    "duration": 13,
    "start_time": "2025-04-17T19:45:44.874Z"
   },
   {
    "duration": 52,
    "start_time": "2025-04-17T19:45:44.888Z"
   },
   {
    "duration": 5,
    "start_time": "2025-04-17T19:45:44.941Z"
   },
   {
    "duration": 8,
    "start_time": "2025-04-17T19:45:44.947Z"
   }
  ],
  "colab": {
   "provenance": [],
   "toc_visible": true
  },
  "kernelspec": {
   "display_name": "Python 3 (ipykernel)",
   "language": "python",
   "name": "python3"
  },
  "language_info": {
   "codemirror_mode": {
    "name": "ipython",
    "version": 3
   },
   "file_extension": ".py",
   "mimetype": "text/x-python",
   "name": "python",
   "nbconvert_exporter": "python",
   "pygments_lexer": "ipython3",
   "version": "3.9.21"
  },
  "toc": {
   "base_numbering": 1,
   "nav_menu": {},
   "number_sections": true,
   "sideBar": true,
   "skip_h1_title": true,
   "title_cell": "Table of Contents",
   "title_sidebar": "Contents",
   "toc_cell": false,
   "toc_position": {},
   "toc_section_display": true,
   "toc_window_display": false
  }
 },
 "nbformat": 4,
 "nbformat_minor": 5
}
